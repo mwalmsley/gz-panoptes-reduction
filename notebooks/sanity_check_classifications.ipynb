{
 "cells": [
  {
   "cell_type": "code",
   "execution_count": 1,
   "metadata": {},
   "outputs": [],
   "source": [
    "%load_ext autoreload\n",
    "%autoreload 2"
   ]
  },
  {
   "cell_type": "code",
   "execution_count": 2,
   "metadata": {},
   "outputs": [],
   "source": [
    "%matplotlib inline"
   ]
  },
  {
   "cell_type": "code",
   "execution_count": null,
   "metadata": {},
   "outputs": [],
   "source": []
  },
  {
   "cell_type": "code",
   "execution_count": 3,
   "metadata": {},
   "outputs": [],
   "source": [
    "import os\n",
    "\n",
    "import pandas as pd\n",
    "import matplotlib.pyplot as plt\n",
    "import seaborn as sns\n",
    "sns.set_context('notebook')\n",
    "from pyspark.sql import SparkSession"
   ]
  },
  {
   "cell_type": "code",
   "execution_count": 4,
   "metadata": {},
   "outputs": [
    {
     "name": "stdout",
     "output_type": "stream",
     "text": [
      "/data/repos/gzreduction\n"
     ]
    }
   ],
   "source": [
    "os.chdir('..')\n",
    "!pwd"
   ]
  },
  {
   "cell_type": "code",
   "execution_count": 5,
   "metadata": {},
   "outputs": [],
   "source": [
    "working_dir = '../zoobot/data/decals/classifications/streaming'\n"
   ]
  },
  {
   "cell_type": "code",
   "execution_count": null,
   "metadata": {},
   "outputs": [],
   "source": []
  },
  {
   "cell_type": "code",
   "execution_count": null,
   "metadata": {},
   "outputs": [],
   "source": []
  },
  {
   "cell_type": "code",
   "execution_count": null,
   "metadata": {},
   "outputs": [],
   "source": []
  },
  {
   "cell_type": "code",
   "execution_count": 6,
   "metadata": {},
   "outputs": [],
   "source": [
    "\n",
    "df = pd.read_csv(os.path.join(working_dir, 'classifications.csv'))"
   ]
  },
  {
   "cell_type": "code",
   "execution_count": 7,
   "metadata": {},
   "outputs": [
    {
     "data": {
      "text/html": [
       "<div>\n",
       "<style scoped>\n",
       "    .dataframe tbody tr th:only-of-type {\n",
       "        vertical-align: middle;\n",
       "    }\n",
       "\n",
       "    .dataframe tbody tr th {\n",
       "        vertical-align: top;\n",
       "    }\n",
       "\n",
       "    .dataframe thead th {\n",
       "        text-align: right;\n",
       "    }\n",
       "</style>\n",
       "<table border=\"1\" class=\"dataframe\">\n",
       "  <thead>\n",
       "    <tr style=\"text-align: right;\">\n",
       "      <th></th>\n",
       "      <th>subject_id</th>\n",
       "      <th>bar_no</th>\n",
       "      <th>bar_strong</th>\n",
       "      <th>bar_weak</th>\n",
       "      <th>bulge-size_dominant</th>\n",
       "      <th>bulge-size_large</th>\n",
       "      <th>bulge-size_moderate</th>\n",
       "      <th>bulge-size_none</th>\n",
       "      <th>bulge-size_small</th>\n",
       "      <th>disk-edge-on_no</th>\n",
       "      <th>...</th>\n",
       "      <th>bulge-size_dominant_fraction</th>\n",
       "      <th>merging_merger_fraction</th>\n",
       "      <th>merging_tidal-debris-v1_fraction</th>\n",
       "      <th>merging_both-v1_fraction</th>\n",
       "      <th>merging_neither-v1_fraction</th>\n",
       "      <th>merging_major-disturbance_fraction</th>\n",
       "      <th>merging_minor-disturbance_fraction</th>\n",
       "      <th>merging_none_fraction</th>\n",
       "      <th>iauname</th>\n",
       "      <th>subject_url</th>\n",
       "    </tr>\n",
       "  </thead>\n",
       "  <tbody>\n",
       "    <tr>\n",
       "      <th>0</th>\n",
       "      <td>20925270</td>\n",
       "      <td>7</td>\n",
       "      <td>0</td>\n",
       "      <td>0</td>\n",
       "      <td>0</td>\n",
       "      <td>5</td>\n",
       "      <td>2</td>\n",
       "      <td>0</td>\n",
       "      <td>0</td>\n",
       "      <td>7</td>\n",
       "      <td>...</td>\n",
       "      <td>0.000000</td>\n",
       "      <td>0.129032</td>\n",
       "      <td>0.16129</td>\n",
       "      <td>0.290323</td>\n",
       "      <td>0.419355</td>\n",
       "      <td>0.000000</td>\n",
       "      <td>0.000000</td>\n",
       "      <td>0.000000</td>\n",
       "      <td>J112735.91-020514.9</td>\n",
       "      <td>https://panoptes-uploads.zooniverse.org/produc...</td>\n",
       "    </tr>\n",
       "    <tr>\n",
       "      <th>1</th>\n",
       "      <td>27363232</td>\n",
       "      <td>9</td>\n",
       "      <td>0</td>\n",
       "      <td>1</td>\n",
       "      <td>0</td>\n",
       "      <td>5</td>\n",
       "      <td>3</td>\n",
       "      <td>0</td>\n",
       "      <td>2</td>\n",
       "      <td>10</td>\n",
       "      <td>...</td>\n",
       "      <td>0.000000</td>\n",
       "      <td>0.472222</td>\n",
       "      <td>0.00000</td>\n",
       "      <td>0.000000</td>\n",
       "      <td>0.000000</td>\n",
       "      <td>0.055556</td>\n",
       "      <td>0.138889</td>\n",
       "      <td>0.333333</td>\n",
       "      <td>J095946.34+040001.3</td>\n",
       "      <td>https://panoptes-uploads.zooniverse.org/produc...</td>\n",
       "    </tr>\n",
       "    <tr>\n",
       "      <th>2</th>\n",
       "      <td>21663050</td>\n",
       "      <td>3</td>\n",
       "      <td>0</td>\n",
       "      <td>3</td>\n",
       "      <td>0</td>\n",
       "      <td>1</td>\n",
       "      <td>2</td>\n",
       "      <td>1</td>\n",
       "      <td>2</td>\n",
       "      <td>6</td>\n",
       "      <td>...</td>\n",
       "      <td>0.000000</td>\n",
       "      <td>0.000000</td>\n",
       "      <td>0.00000</td>\n",
       "      <td>0.000000</td>\n",
       "      <td>0.263158</td>\n",
       "      <td>0.052632</td>\n",
       "      <td>0.026316</td>\n",
       "      <td>0.657895</td>\n",
       "      <td>J011510.87-000659.8</td>\n",
       "      <td>https://panoptes-uploads.zooniverse.org/produc...</td>\n",
       "    </tr>\n",
       "    <tr>\n",
       "      <th>3</th>\n",
       "      <td>20926376</td>\n",
       "      <td>5</td>\n",
       "      <td>1</td>\n",
       "      <td>1</td>\n",
       "      <td>1</td>\n",
       "      <td>2</td>\n",
       "      <td>3</td>\n",
       "      <td>0</td>\n",
       "      <td>1</td>\n",
       "      <td>7</td>\n",
       "      <td>...</td>\n",
       "      <td>0.142857</td>\n",
       "      <td>0.485714</td>\n",
       "      <td>0.00000</td>\n",
       "      <td>0.114286</td>\n",
       "      <td>0.400000</td>\n",
       "      <td>0.000000</td>\n",
       "      <td>0.000000</td>\n",
       "      <td>0.000000</td>\n",
       "      <td>J115100.67-030435.0</td>\n",
       "      <td>https://panoptes-uploads.zooniverse.org/produc...</td>\n",
       "    </tr>\n",
       "    <tr>\n",
       "      <th>4</th>\n",
       "      <td>21661566</td>\n",
       "      <td>28</td>\n",
       "      <td>4</td>\n",
       "      <td>6</td>\n",
       "      <td>0</td>\n",
       "      <td>0</td>\n",
       "      <td>6</td>\n",
       "      <td>2</td>\n",
       "      <td>30</td>\n",
       "      <td>38</td>\n",
       "      <td>...</td>\n",
       "      <td>0.000000</td>\n",
       "      <td>0.075000</td>\n",
       "      <td>0.02500</td>\n",
       "      <td>0.050000</td>\n",
       "      <td>0.300000</td>\n",
       "      <td>0.125000</td>\n",
       "      <td>0.100000</td>\n",
       "      <td>0.325000</td>\n",
       "      <td>J123906.26-023029.5</td>\n",
       "      <td>https://panoptes-uploads.zooniverse.org/produc...</td>\n",
       "    </tr>\n",
       "  </tbody>\n",
       "</table>\n",
       "<p>5 rows × 87 columns</p>\n",
       "</div>"
      ],
      "text/plain": [
       "   subject_id  bar_no  bar_strong  bar_weak  bulge-size_dominant  \\\n",
       "0    20925270       7           0         0                    0   \n",
       "1    27363232       9           0         1                    0   \n",
       "2    21663050       3           0         3                    0   \n",
       "3    20926376       5           1         1                    1   \n",
       "4    21661566      28           4         6                    0   \n",
       "\n",
       "   bulge-size_large  bulge-size_moderate  bulge-size_none  bulge-size_small  \\\n",
       "0                 5                    2                0                 0   \n",
       "1                 5                    3                0                 2   \n",
       "2                 1                    2                1                 2   \n",
       "3                 2                    3                0                 1   \n",
       "4                 0                    6                2                30   \n",
       "\n",
       "   disk-edge-on_no                        ...                          \\\n",
       "0                7                        ...                           \n",
       "1               10                        ...                           \n",
       "2                6                        ...                           \n",
       "3                7                        ...                           \n",
       "4               38                        ...                           \n",
       "\n",
       "   bulge-size_dominant_fraction  merging_merger_fraction  \\\n",
       "0                      0.000000                 0.129032   \n",
       "1                      0.000000                 0.472222   \n",
       "2                      0.000000                 0.000000   \n",
       "3                      0.142857                 0.485714   \n",
       "4                      0.000000                 0.075000   \n",
       "\n",
       "   merging_tidal-debris-v1_fraction  merging_both-v1_fraction  \\\n",
       "0                           0.16129                  0.290323   \n",
       "1                           0.00000                  0.000000   \n",
       "2                           0.00000                  0.000000   \n",
       "3                           0.00000                  0.114286   \n",
       "4                           0.02500                  0.050000   \n",
       "\n",
       "   merging_neither-v1_fraction  merging_major-disturbance_fraction  \\\n",
       "0                     0.419355                            0.000000   \n",
       "1                     0.000000                            0.055556   \n",
       "2                     0.263158                            0.052632   \n",
       "3                     0.400000                            0.000000   \n",
       "4                     0.300000                            0.125000   \n",
       "\n",
       "   merging_minor-disturbance_fraction  merging_none_fraction  \\\n",
       "0                            0.000000               0.000000   \n",
       "1                            0.138889               0.333333   \n",
       "2                            0.026316               0.657895   \n",
       "3                            0.000000               0.000000   \n",
       "4                            0.100000               0.325000   \n",
       "\n",
       "               iauname                                        subject_url  \n",
       "0  J112735.91-020514.9  https://panoptes-uploads.zooniverse.org/produc...  \n",
       "1  J095946.34+040001.3  https://panoptes-uploads.zooniverse.org/produc...  \n",
       "2  J011510.87-000659.8  https://panoptes-uploads.zooniverse.org/produc...  \n",
       "3  J115100.67-030435.0  https://panoptes-uploads.zooniverse.org/produc...  \n",
       "4  J123906.26-023029.5  https://panoptes-uploads.zooniverse.org/produc...  \n",
       "\n",
       "[5 rows x 87 columns]"
      ]
     },
     "execution_count": 7,
     "metadata": {},
     "output_type": "execute_result"
    }
   ],
   "source": [
    "df.head()"
   ]
  },
  {
   "cell_type": "code",
   "execution_count": 8,
   "metadata": {},
   "outputs": [
    {
     "data": {
      "text/plain": [
       "<matplotlib.axes._subplots.AxesSubplot at 0x117b561d0>"
      ]
     },
     "execution_count": 8,
     "metadata": {},
     "output_type": "execute_result"
    },
    {
     "data": {
      "image/png": "[encoded data removed]",
      "text/plain": [
       "<Figure size 432x288 with 1 Axes>"
      ]
     },
     "metadata": {},
     "output_type": "display_data"
    }
   ],
   "source": [
    "df['smooth-or-featured_featured-or-disk'].hist()"
   ]
  },
  {
   "cell_type": "code",
   "execution_count": 11,
   "metadata": {},
   "outputs": [
    {
     "data": {
      "text/plain": [
       "<matplotlib.axes._subplots.AxesSubplot at 0x117f60128>"
      ]
     },
     "execution_count": 11,
     "metadata": {},
     "output_type": "execute_result"
    },
    {
     "data": {
      "image/png": "[encoded data removed]",
      "text/plain": [
       "<Figure size 432x288 with 1 Axes>"
      ]
     },
     "metadata": {},
     "output_type": "display_data"
    }
   ],
   "source": [
    "df['bar_weak'].hist()"
   ]
  },
  {
   "cell_type": "markdown",
   "metadata": {},
   "source": [
    "<img src=}></img>"
   ]
  },
  {
   "cell_type": "code",
   "execution_count": 9,
   "metadata": {},
   "outputs": [
    {
     "data": {
      "text/plain": [
       "'https://panoptes-uploads.zooniverse.org/production/subject_location/56a404e7-f94a-406a-9696-ce17c63d37d5.png'"
      ]
     },
     "execution_count": 9,
     "metadata": {},
     "output_type": "execute_result"
    }
   ],
   "source": [
    "df.iloc[0]['subject_url']"
   ]
  },
  {
   "cell_type": "code",
   "execution_count": 17,
   "metadata": {},
   "outputs": [
    {
     "data": {
      "text/plain": [
       "<matplotlib.axes._subplots.AxesSubplot at 0x118a3e5c0>"
      ]
     },
     "execution_count": 17,
     "metadata": {},
     "output_type": "execute_result"
    },
    {
     "data": {
      "image/png": "[encoded data removed]",
      "text/plain": [
       "<Figure size 432x288 with 1 Axes>"
      ]
     },
     "metadata": {},
     "output_type": "display_data"
    }
   ],
   "source": [
    "df[df['smooth-or-featured_total-votes'] < 45]['smooth-or-featured_total-votes'].hist()"
   ]
  },
  {
   "cell_type": "code",
   "execution_count": 19,
   "metadata": {},
   "outputs": [
    {
     "data": {
      "text/plain": [
       "array(['subject_id', 'bar_no', 'bar_strong', 'bar_weak',\n",
       "       'bulge-size_dominant', 'bulge-size_large', 'bulge-size_moderate',\n",
       "       'bulge-size_none', 'bulge-size_small', 'disk-edge-on_no',\n",
       "       'disk-edge-on_yes', 'edge-on-bulge_boxy', 'edge-on-bulge_none',\n",
       "       'edge-on-bulge_rounded', 'has-spiral-arms_no',\n",
       "       'has-spiral-arms_yes', 'how-rounded_cigar-shaped',\n",
       "       'how-rounded_in-between', 'how-rounded_round', 'merging_both-v1',\n",
       "       'merging_major-disturbance', 'merging_merger',\n",
       "       'merging_minor-disturbance', 'merging_neither-v1', 'merging_none',\n",
       "       'merging_tidal-debris-v1', 'smooth-or-featured_artifact',\n",
       "       'smooth-or-featured_featured-or-disk', 'smooth-or-featured_smooth',\n",
       "       'spiral-arm-count_1', 'spiral-arm-count_2', 'spiral-arm-count_3',\n",
       "       'spiral-arm-count_4', 'spiral-arm-count_cant-tell',\n",
       "       'spiral-arm-count_more-than-4', 'spiral-winding_loose',\n",
       "       'spiral-winding_medium', 'spiral-winding_tight',\n",
       "       'smooth-or-featured_total-votes', 'how-rounded_total-votes',\n",
       "       'disk-edge-on_total-votes', 'edge-on-bulge_total-votes',\n",
       "       'bar_total-votes', 'has-spiral-arms_total-votes',\n",
       "       'spiral-winding_total-votes', 'spiral-arm-count_total-votes',\n",
       "       'bulge-size_total-votes', 'merging_total-votes',\n",
       "       'smooth-or-featured_smooth_fraction',\n",
       "       'smooth-or-featured_featured-or-disk_fraction',\n",
       "       'smooth-or-featured_artifact_fraction',\n",
       "       'how-rounded_round_fraction', 'how-rounded_in-between_fraction',\n",
       "       'how-rounded_cigar-shaped_fraction', 'disk-edge-on_yes_fraction',\n",
       "       'disk-edge-on_no_fraction', 'edge-on-bulge_rounded_fraction',\n",
       "       'edge-on-bulge_boxy_fraction', 'edge-on-bulge_none_fraction',\n",
       "       'bar_strong_fraction', 'bar_weak_fraction', 'bar_no_fraction',\n",
       "       'has-spiral-arms_yes_fraction', 'has-spiral-arms_no_fraction',\n",
       "       'spiral-winding_tight_fraction', 'spiral-winding_medium_fraction',\n",
       "       'spiral-winding_loose_fraction', 'spiral-arm-count_1_fraction',\n",
       "       'spiral-arm-count_2_fraction', 'spiral-arm-count_3_fraction',\n",
       "       'spiral-arm-count_4_fraction',\n",
       "       'spiral-arm-count_more-than-4_fraction',\n",
       "       'spiral-arm-count_cant-tell_fraction', 'bulge-size_none_fraction',\n",
       "       'bulge-size_small_fraction', 'bulge-size_moderate_fraction',\n",
       "       'bulge-size_large_fraction', 'bulge-size_dominant_fraction',\n",
       "       'merging_merger_fraction', 'merging_tidal-debris-v1_fraction',\n",
       "       'merging_both-v1_fraction', 'merging_neither-v1_fraction',\n",
       "       'merging_major-disturbance_fraction',\n",
       "       'merging_minor-disturbance_fraction', 'merging_none_fraction',\n",
       "       'iauname', 'subject_url'], dtype=object)"
      ]
     },
     "execution_count": 19,
     "metadata": {},
     "output_type": "execute_result"
    }
   ],
   "source": [
    "df.columns.values"
   ]
  },
  {
   "cell_type": "code",
   "execution_count": 23,
   "metadata": {},
   "outputs": [],
   "source": [
    "master = pd.read_csv(os.path.join(working_dir, '../../decals_master_catalog.csv'))"
   ]
  },
  {
   "cell_type": "code",
   "execution_count": 24,
   "metadata": {},
   "outputs": [
    {
     "data": {
      "text/plain": [
       "334235"
      ]
     },
     "execution_count": 24,
     "metadata": {},
     "output_type": "execute_result"
    }
   ],
   "source": [
    "len(master)"
   ]
  },
  {
   "cell_type": "code",
   "execution_count": 28,
   "metadata": {},
   "outputs": [
    {
     "data": {
      "text/plain": [
       "<matplotlib.axes._subplots.AxesSubplot at 0x118d54208>"
      ]
     },
     "execution_count": 28,
     "metadata": {},
     "output_type": "execute_result"
    },
    {
     "data": {
      "image/png": "[encoded data removed]",
      "text/plain": [
       "<Figure size 432x288 with 1 Axes>"
      ]
     },
     "metadata": {},
     "output_type": "display_data"
    }
   ],
   "source": [
    "master[master['smooth-or-featured_total-votes'] < 10]['smooth-or-featured_total-votes'].hist()"
   ]
  },
  {
   "cell_type": "code",
   "execution_count": 26,
   "metadata": {},
   "outputs": [
    {
     "data": {
      "text/plain": [
       "<matplotlib.axes._subplots.AxesSubplot at 0x12d849cc0>"
      ]
     },
     "execution_count": 26,
     "metadata": {},
     "output_type": "execute_result"
    },
    {
     "data": {
      "image/png": "[encoded data removed]",
      "text/plain": [
       "<Figure size 432x288 with 1 Axes>"
      ]
     },
     "metadata": {},
     "output_type": "display_data"
    }
   ],
   "source": [
    "df[df['smooth-or-featured_total-votes'] < 45]['smooth-or-featured_total-votes'].hist()"
   ]
  },
  {
   "cell_type": "code",
   "execution_count": null,
   "metadata": {},
   "outputs": [],
   "source": []
  }
 ],
 "metadata": {
  "kernelspec": {
   "display_name": "Python 3",
   "language": "python",
   "name": "python3"
  },
  "language_info": {
   "codemirror_mode": {
    "name": "ipython",
    "version": 3
   },
   "file_extension": ".py",
   "mimetype": "text/x-python",
   "name": "python",
   "nbconvert_exporter": "python",
   "pygments_lexer": "ipython3",
   "version": "3.6.7"
  }
 },
 "nbformat": 4,
 "nbformat_minor": 2
}
